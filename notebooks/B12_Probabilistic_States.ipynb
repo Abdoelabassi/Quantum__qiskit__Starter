{
 "cells": [
  {
   "cell_type": "markdown",
   "metadata": {},
   "source": [
    "<table> <tr>\n",
    "        <td  style=\"background-color:#ffffff;\">\n",
    "            <a href=\"http://qworld.lu.lv\" target=\"_blank\"><img src=\"../images/qworld.jpg\" width=\"25%\" align=\"left\"> </a></td>\n",
    "        <td style=\"background-color:#ffffff;vertical-align:bottom;text-align:right;\">\n",
    "            prepared by <a href=\"http://abu.lu.lv\" target=\"_blank\">Abuzer Yakaryilmaz</a> (<a href=\"http://qworld.lu.lv/index.php/qlatvia/\" target=\"_blank\">QLatvia</a>)\n",
    "        </td>        \n",
    "</tr></table>"
   ]
  },
  {
   "cell_type": "markdown",
   "metadata": {},
   "source": [
    "<table width=\"100%\"><tr><td style=\"color:#bbbbbb;background-color:#ffffff;font-size:11px;font-style:italic;text-align:right;\">This cell contains some macros. If there is a problem with displaying mathematical formulas, please run this cell to load these macros. </td></tr></table>\n",
    "$ \\newcommand{\\bra}[1]{\\langle #1|} $\n",
    "$ \\newcommand{\\ket}[1]{|#1\\rangle} $\n",
    "$ \\newcommand{\\braket}[2]{\\langle #1|#2\\rangle} $\n",
    "$ \\newcommand{\\dot}[2]{ #1 \\cdot #2} $\n",
    "$ \\newcommand{\\biginner}[2]{\\left\\langle #1,#2\\right\\rangle} $\n",
    "$ \\newcommand{\\mymatrix}[2]{\\left( \\begin{array}{#1} #2\\end{array} \\right)} $\n",
    "$ \\newcommand{\\myvector}[1]{\\mymatrix{c}{#1}} $\n",
    "$ \\newcommand{\\myrvector}[1]{\\mymatrix{r}{#1}} $\n",
    "$ \\newcommand{\\mypar}[1]{\\left( #1 \\right)} $\n",
    "$ \\newcommand{\\mybigpar}[1]{ \\Big( #1 \\Big)} $\n",
    "$ \\newcommand{\\sqrttwo}{\\frac{1}{\\sqrt{2}}} $\n",
    "$ \\newcommand{\\dsqrttwo}{\\dfrac{1}{\\sqrt{2}}} $\n",
    "$ \\newcommand{\\onehalf}{\\frac{1}{2}} $\n",
    "$ \\newcommand{\\donehalf}{\\dfrac{1}{2}} $\n",
    "$ \\newcommand{\\hadamard}{ \\mymatrix{rr}{ \\sqrttwo & \\sqrttwo \\\\ \\sqrttwo & -\\sqrttwo }} $\n",
    "$ \\newcommand{\\vzero}{\\myvector{1\\\\0}} $\n",
    "$ \\newcommand{\\vone}{\\myvector{0\\\\1}} $\n",
    "$ \\newcommand{\\stateplus}{\\myvector{ \\sqrttwo \\\\  \\sqrttwo } } $\n",
    "$ \\newcommand{\\stateminus}{ \\myrvector{ \\sqrttwo \\\\ -\\sqrttwo } } $\n",
    "$ \\newcommand{\\myarray}[2]{ \\begin{array}{#1}#2\\end{array}} $\n",
    "$ \\newcommand{\\X}{ \\mymatrix{cc}{0 & 1 \\\\ 1 & 0}  } $\n",
    "$ \\newcommand{\\I}{ \\mymatrix{rr}{1 & 0 \\\\ 0 & 1}  } $\n",
    "$ \\newcommand{\\Z}{ \\mymatrix{rr}{1 & 0 \\\\ 0 & -1}  } $\n",
    "$ \\newcommand{\\Htwo}{ \\mymatrix{rrrr}{ \\frac{1}{2} & \\frac{1}{2} & \\frac{1}{2} & \\frac{1}{2} \\\\ \\frac{1}{2} & -\\frac{1}{2} & \\frac{1}{2} & -\\frac{1}{2} \\\\ \\frac{1}{2} & \\frac{1}{2} & -\\frac{1}{2} & -\\frac{1}{2} \\\\ \\frac{1}{2} & -\\frac{1}{2} & -\\frac{1}{2} & \\frac{1}{2} } } $\n",
    "$ \\newcommand{\\CNOT}{ \\mymatrix{cccc}{1 & 0 & 0 & 0 \\\\ 0 & 1 & 0 & 0 \\\\ 0 & 0 & 0 & 1 \\\\ 0 & 0 & 1 & 0} } $\n",
    "$ \\newcommand{\\norm}[1]{ \\left\\lVert #1 \\right\\rVert } $\n",
    "$ \\newcommand{\\pstate}[1]{ \\lceil \\mspace{-1mu} #1 \\mspace{-1.5mu} \\rfloor } $"
   ]
  },
  {
   "cell_type": "markdown",
   "metadata": {},
   "source": [
    "<h2> Probabilistic States </h2>\n",
    "\n",
    "[Watch Lecture](https://youtu.be/tJjrF7WgT1g)"
   ]
  },
  {
   "cell_type": "markdown",
   "metadata": {},
   "source": [
    "Suppose that Asja tosses a fair coin secretly.\n",
    "\n",
    "Because we do not see the result, our information about the outcome will be probabilistic:\n",
    "\n",
    "$\\rightarrow$ The outcome is heads with probability $0.5$ and the outcome will be tails with probability $0.5$.\n",
    "\n",
    "If the coin has a bias $ \\dfrac{Pr(Head)}{Pr(Tail)} = \\dfrac{3}{1}$, then our information about the outcome will be as follows:\n",
    "\n",
    "$\\rightarrow$  The outcome will be heads with probability $ 0.75 $ and the outcome will be tails with probability $ 0.25 $."
   ]
  },
  {
   "cell_type": "markdown",
   "metadata": {},
   "source": [
    "<i><u>Explanation</u>: The probability of getting heads is three times of the probability of getting tails.\n",
    "    <ul>\n",
    "        <li>The total probability is 1. </li>\n",
    "        <li> We divide 1 into four parts (three parts are for heads and one part is for tail),\n",
    "        <li> one part is $ \\dfrac{1}{4} = 0.25$,</li>\n",
    "        <li> and then give three parts for heads ($0.75$) and one part for tails ($0.25$).</li>\n",
    "    </ul></i>"
   ]
  },
  {
   "cell_type": "markdown",
   "metadata": {},
   "source": [
    "<h3> Listing probabilities as a column </h3>\n",
    "\n",
    "We have two different outcomes: heads (0) and tails (1).\n",
    "\n",
    "Then, we can use a column of size 2 to show the probabilities of getting heads and getting tails.\n",
    "\n",
    "For the fair coin, our information after the coin-flip will be $ \\myvector{0.5 \\\\ 0.5} $. \n",
    "\n",
    "For the biased coin, it will be $ \\myvector{0.75 \\\\ 0.25} $.\n",
    "\n",
    "The first entry shows the probability of getting heads, and the second entry shows the probability of getting tails.\n",
    "\n",
    " $ \\myvector{0.5 \\\\ 0.5} $ and $ \\myvector{0.75 \\\\ 0.25} $ are two examples of 2-dimensional (column) vectors."
   ]
  },
  {
   "cell_type": "markdown",
   "metadata": {},
   "source": [
    "<h3> Task 1 </h3>\n",
    "\n",
    "Suppose that Balvis secretly flips a coin having the bias $ \\dfrac{Pr(Heads)}{Pr(Tails)} = \\dfrac{1}{4}$.\n",
    "\n",
    "Represent your information about the outcome as a column vector."
   ]
  },
  {
   "cell_type": "markdown",
   "metadata": {},
   "source": [
    "<h3> Task 2 </h3>\n",
    "\n",
    "Suppose that Fyodor secretly rolls a loaded (tricky) dice with the bias \n",
    "\n",
    "$$ Pr(1):Pr(2):Pr(3):Pr(4):Pr(5):Pr(6) = 7:5:4:2:6:1 . $$\n",
    "\n",
    "Represent your information about the result as a column vector. Remark that the size of your column should be 6.\n",
    "\n",
    "You may use python for your calculations."
   ]
  },
  {
   "cell_type": "code",
   "execution_count": 5,
   "metadata": {},
   "outputs": [
    {
     "name": "stdout",
     "output_type": "stream",
     "text": [
      "total portions  : 25 \n",
      "the probability of getting  1 portion is 0.28 \n",
      "the probability of getting  2 portion is 0.2 \n",
      "the probability of getting  3 portion is 0.16 \n",
      "the probability of getting  4 portion is 0.08 \n",
      "the probability of getting  5 portion is 0.24 \n",
      "the probability of getting  6 portion is 0.04 \n"
     ]
    }
   ],
   "source": [
    "#\n",
    "# your code is here\n",
    "#\n",
    "biases = [7,5,4,2,6,1]\n",
    "\n",
    "total_pr = 0\n",
    "\n",
    "for i in range(6):\n",
    "    total_pr += biases[i]\n",
    "    \n",
    "print(f\"total portions  : {total_pr} \")\n",
    "#weught of 1 \n",
    "one_pr = 1/total_pr\n",
    "\n",
    "for i in range(6):\n",
    "    print(f\"the probability of getting  {i+1} portion is {one_pr*biases[i]} \")\n",
    "    \n"
   ]
  },
  {
   "cell_type": "markdown",
   "metadata": {},
   "source": [
    "<a href=\"B12_Probabilistic_States_Solutions.ipynb#task2\">click for our solution</a>"
   ]
  },
  {
   "cell_type": "markdown",
   "metadata": {},
   "source": [
    "<h3> Vector representation </h3>\n",
    "\n",
    "Suppose that we have a system with 4 distiguishable states: $ s_1 $, $s_2 $, $s_3$, and $s_4$.  \n",
    "\n",
    "We expect the system to be in one of them at any moment. \n",
    "\n",
    "By speaking with probabilities, we say that the system is in one of the states with probability 1, and in any other state with probabilty 0. \n",
    "\n",
    "Then, by using our column representation, we can show each state as a column vector (by using the vectors in standard basis of $ \\mathbb{R}^4 $):\n",
    "\n",
    "$$\n",
    "    e_1 = \\myvector{1\\\\ 0 \\\\ 0 \\\\ 0}, e_2 = \\myvector{0 \\\\ 1 \\\\ 0 \\\\ 0}, e_3 = \\myvector{0 \\\\ 0 \\\\ 1 \\\\ 0}, \n",
    "    \\mbox{ and } e_4 = \\myvector{0 \\\\ 0 \\\\ 0 \\\\ 1}.\n",
    "$$"
   ]
  },
  {
   "cell_type": "markdown",
   "metadata": {},
   "source": [
    "This representation helps us to represent our knowledge on a system when it is in more than one state with certain probabilities. \n",
    "\n",
    "Remember the case in which the coins are tossed secretly. \n",
    "\n",
    "For example, suppose that the system is in states $ s_1 $, $ s_2 $, $ s_3 $, and $ s_4 $ with probabilities $ 0.20 $, $ 0.25 $, $ 0.40 $, and $ 0.15 $, respectively. \n",
    "\n",
    "(<i>The total probability should be 1, i.e., $ 0.20+0.25+0.40+0.15 = 1.00 $</i>)\n",
    "\n",
    "Then, we can say that the system is in the following probabilistic state:\n",
    "\n",
    "$$ 0.20 \\cdot e_1 + 0.25 \\cdot e2 + 0.40 \\cdot e_3 + 0.15 \\cdot e4 $$\n",
    "\n",
    "$$ =  0.20 \\cdot \\myvector{1\\\\ 0 \\\\ 0 \\\\ 0} + 0.25 \\cdot \\myvector{0\\\\ 1 \\\\ 0 \\\\ 0} + 0.40 \\cdot \\myvector{0\\\\ 0 \\\\ 1 \\\\ 0} + 0.15 \\cdot  \\myvector{0\\\\ 0 \\\\ 0 \\\\ 1}  \n",
    "$$\n",
    "\n",
    "$$ = \\myvector{0.20\\\\ 0 \\\\ 0 \\\\ 0} +   \\myvector{0\\\\ 0.25 \\\\ 0 \\\\ 0} +  \\myvector{0\\\\ 0 \\\\0.40 \\\\ 0} +  \\myvector{0\\\\ 0 \\\\ 0 \\\\ 0.15 } = \\myvector{ 0.20 \\\\ 0.25 \\\\ 0.40 \\\\ 0.15 }, $$\n",
    "\n",
    "where the summation of entries must be 1."
   ]
  },
  {
   "cell_type": "markdown",
   "metadata": {},
   "source": [
    "<h3> Probabilistic state </h3>\n",
    "\n",
    "A probabilistic state is a linear combination of the vectors in the standard basis. \n",
    "    \n",
    "Here coefficients (scalars) must satisfy certain properties:\n",
    "<ol>\n",
    "    <li> Each coefficient is non-negative </li>\n",
    "    <li> The summation of coefficients is 1 </li>\n",
    "</ol>\n",
    "\n",
    "\n",
    "Alternatively, we can say that a probabilistic state is a probability distribution over deterministic states.\n",
    "\n",
    "We can show all information as a single mathematical object, which is called as a stochastic vector.\n",
    "\n",
    "<i> Remark that the state of any linear system is a linear combination of the vectors in the basis. </i> "
   ]
  },
  {
   "cell_type": "markdown",
   "metadata": {},
   "source": [
    "<h3> Task 3 </h3>\n",
    "\n",
    "For a system with 4 states, randomly create a probabilistic state, and print its entries, e.g., $ 0.16~~0.17~~0.02~~0.65 $.\n",
    "\n",
    "<i>Hint: You may pick your random numbers between 0 and 100 (or 1000), and then normalize each value by dividing the summation of all numbers.</i>"
   ]
  },
  {
   "cell_type": "code",
   "execution_count": 12,
   "metadata": {},
   "outputs": [
    {
     "name": "stdout",
     "output_type": "stream",
     "text": [
      "my state before normalization : [73, 42, 29, 98] \n",
      "My normalized state is : 0.30165289256198347 \n",
      "My normalized state is : 0.17355371900826447 \n",
      "My normalized state is : 0.11983471074380166 \n",
      "My normalized state is : 0.4049586776859504 \n"
     ]
    }
   ],
   "source": [
    "#\n",
    "# your solution is here\n",
    "#\n",
    "my_state = [0,0,0,0]\n",
    "\n",
    "normalization_factor = 0\n",
    "\n",
    "from random import randrange\n",
    "\n",
    "while normalization_factor == 0:\n",
    "    for i in range(len(my_state)):\n",
    "        my_state[i] = randrange(101)\n",
    "        normalization_factor += my_state[i]\n",
    "print(f\"my state before normalization : {my_state} \")\n",
    "for i in range(len(my_state)):\n",
    "    print(f\"My normalized state is : {my_state[i]/normalization_factor} \")\n",
    "\n"
   ]
  },
  {
   "cell_type": "markdown",
   "metadata": {},
   "source": [
    "<a href=\"B12_Probabilistic_States_Solutions.ipynb#task3\">click for our solution</a>"
   ]
  },
  {
   "cell_type": "markdown",
   "metadata": {},
   "source": [
    "<h3> Task 4 [extra] </h3>\n",
    "\n",
    "As given in the hint for Task 3, you may pick your random numbers between 0 and $ 10^k $. For better precision, you may take bigger values of $ k $.\n",
    "\n",
    "Write a function that randomly creates a probabilisitic state of size $ n $ with a precision up to $ k $ digits. \n",
    "\n",
    "Test your function."
   ]
  },
  {
   "cell_type": "code",
   "execution_count": 11,
   "metadata": {},
   "outputs": [
    {
     "name": "stdout",
     "output_type": "stream",
     "text": [
      "the state of size 10 before normalization : [62115, 90359, 84164, 51448, 5484, 4239, 22150, 49726, 31874, 79920] \n",
      "normalized probabilistic state : 0.12900874181428473 \n",
      "normalized probabilistic state : 0.18766965952824527 \n",
      "normalized probabilistic state : 0.17480305475420527 \n",
      "normalized probabilistic state : 0.10685408917107496 \n",
      "normalized probabilistic state : 0.011389904855663487 \n",
      "normalized probabilistic state : 0.008804122298168767 \n",
      "normalized probabilistic state : 0.04600408325181368 \n",
      "normalized probabilistic state : 0.10327760919998588 \n",
      "normalized probabilistic state : 0.06620018733942706 \n",
      "normalized probabilistic state : 0.1659885477871309 \n"
     ]
    }
   ],
   "source": [
    "#\n",
    "# your solution is here\n",
    "#\n",
    "from random import randrange\n",
    "\n",
    "def prob_state(n,k):\n",
    "    state=[0 for i in range(n)]\n",
    "    norm = 0\n",
    "    while norm == 0:\n",
    "        for j in range(len(state)):\n",
    "            state[j] = randrange(10**(k))\n",
    "            norm += state[j]\n",
    "    print(f\"the state of size {n} before normalization : {state} \")\n",
    "    for i in range(len(state)):\n",
    "        print(f\"normalized probabilistic state : {state[i]/norm} \")\n",
    "        \n",
    "some_random_state = prob_state(10,5)\n",
    "\n",
    "some_random_state\n",
    "                                 \n",
    "                            \n",
    "    \n"
   ]
  },
  {
   "cell_type": "code",
   "execution_count": null,
   "metadata": {},
   "outputs": [],
   "source": []
  }
 ],
 "metadata": {
  "kernelspec": {
   "display_name": "Python 3 (ipykernel)",
   "language": "python",
   "name": "python3"
  },
  "language_info": {
   "codemirror_mode": {
    "name": "ipython",
    "version": 3
   },
   "file_extension": ".py",
   "mimetype": "text/x-python",
   "name": "python",
   "nbconvert_exporter": "python",
   "pygments_lexer": "ipython3",
   "version": "3.9.12"
  }
 },
 "nbformat": 4,
 "nbformat_minor": 2
}
